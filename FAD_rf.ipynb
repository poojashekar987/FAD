{
 "cells": [
  {
   "cell_type": "code",
   "execution_count": 1,
   "id": "f4e1186b",
   "metadata": {},
   "outputs": [],
   "source": [
    "import numpy as np\n",
    "import pandas as pd\n",
    "import seaborn as sns\n",
    "import scipy\n",
    "import matplotlib.pyplot as plt\n",
    "import warnings\n",
    "\n",
    "from sklearn.model_selection import train_test_split\n",
    "from sklearn.preprocessing import StandardScaler, LabelEncoder\n",
    "from sklearn.decomposition import PCA\n",
    "from sklearn.cluster import KMeans, AgglomerativeClustering\n",
    "from sklearn.mixture import GaussianMixture\n",
    "from sklearn.multiclass import OneVsRestClassifier\n",
    "from xgboost import XGBClassifier\n",
    "from sklearn.svm import SVC\n",
    "from sklearn.metrics import precision_recall_fscore_support, fbeta_score,     confusion_matrix, RocCurveDisplay, PrecisionRecallDisplay\n",
    "from sklearn.neighbors import KNeighborsClassifier\n",
    "from sklearn.ensemble import RandomForestClassifier, AdaBoostClassifier, GradientBoostingClassifier\n",
    "from sklearn.neural_network import MLPClassifier\n",
    "from sklearn.model_selection import RandomizedSearchCV\n",
    "\n",
    "from sklearn.metrics import accuracy_score, precision_score, recall_score, f1_score\n",
    "from sklearn.metrics import confusion_matrix\n",
    "\n",
    "warnings.filterwarnings(\"ignore\")\n",
    "np.random.seed(0)\n",
    "pd.set_option('display.max_columns', None)\n",
    "sns.set_theme()\n"
   ]
  },
  {
   "cell_type": "code",
   "execution_count": 2,
   "id": "3e09d386",
   "metadata": {},
   "outputs": [],
   "source": [
    "cust_pallete = sns.color_palette(['#006E1A', '#D27000', '#B50E0E'])\n",
    "\n",
    "path = 'fetal_health.csv'\n",
    "data = pd.read_csv(path)\n",
    "data.rename({'percentage_of_time_with_abnormal_long_term_variability':'perc_of_time_with_abnormal_long_term_variability'}, axis=1, inplace=True)\n",
    "data.drop_duplicates(inplace = True)"
   ]
  },
  {
   "cell_type": "code",
   "execution_count": 3,
   "id": "99520775",
   "metadata": {},
   "outputs": [],
   "source": [
    "from sklearn.preprocessing import LabelEncoder\n",
    "\n",
    "# Create an instance of LabelEncoder\n",
    "le = LabelEncoder()\n",
    "categorical_columns = data.columns\n",
    "for column in categorical_columns:\n",
    "    data[column] = le.fit_transform(data[column])"
   ]
  },
  {
   "cell_type": "code",
   "execution_count": 4,
   "id": "33032422",
   "metadata": {},
   "outputs": [],
   "source": [
    "X = data.drop('fetal_health', axis=1).values  # Features\n",
    "Y = data['fetal_health'].values  # Target variable\n",
    "X_train, X_test, y_train, y_test = train_test_split(X, Y, test_size=0.25, random_state=42)"
   ]
  },
  {
   "cell_type": "code",
   "execution_count": 5,
   "id": "1418b074",
   "metadata": {},
   "outputs": [],
   "source": [
    "from sklearn.preprocessing import RobustScaler\n",
    "\n",
    "scaler = RobustScaler()\n",
    "\n",
    "X_train_Scaled=scaler.fit_transform(X_train)\n",
    "X_test_Scaled=scaler.transform(X_test)"
   ]
  },
  {
   "cell_type": "code",
   "execution_count": 6,
   "id": "1db7be92",
   "metadata": {},
   "outputs": [],
   "source": [
    "param_grid = {\n",
    "    'bootstrap': False,\n",
    "    'max_depth': 30,\n",
    "    'max_features': 'auto',\n",
    "    'min_samples_leaf': 2,\n",
    "    'min_samples_split': 2,\n",
    "    'n_estimators': 100\n",
    "}\n",
    "rf_classifier = RandomForestClassifier(**param_grid)\n"
   ]
  },
  {
   "cell_type": "code",
   "execution_count": 7,
   "id": "9d390400",
   "metadata": {},
   "outputs": [],
   "source": [
    "rf_classifier.fit(X_train_Scaled, y_train)\n",
    "y_pred = rf_classifier.predict(X_test_Scaled)"
   ]
  },
  {
   "cell_type": "code",
   "execution_count": 8,
   "id": "c00d66a2",
   "metadata": {},
   "outputs": [
    {
     "name": "stdout",
     "output_type": "stream",
     "text": [
      "Suspect\n"
     ]
    }
   ],
   "source": [
    "new_input = [142,0.002,0.002,0.008,0,0,0,74,0.4,36,5,42,117,159,2,1,145,143,145,1,0]\n",
    "input_data_reshaped = np.array(new_input).reshape(1, -1)\n",
    "new_data_scaled = scaler.transform(input_data_reshaped)\n",
    "prediction = rf_classifier.predict(new_data_scaled)\n",
    "\n",
    "if prediction ==1:\n",
    "    print(\"Normal\")\n",
    "elif prediction == 2:\n",
    "    print(\"Suspect\")\n",
    "else:\n",
    "    print(\"Pathalogical\")"
   ]
  },
  {
   "cell_type": "code",
   "execution_count": 9,
   "id": "441a038d",
   "metadata": {},
   "outputs": [
    {
     "name": "stdout",
     "output_type": "stream",
     "text": [
      "Class 0: Precision: 0.9764705882352941, Recall: 0.9880952380952381, F1-Score: 0.9822485207100591, Specificity: 0.908256880733945\n",
      "Class 1: Precision: 0.9384615384615385, Recall: 0.8356164383561644, F1-Score: 0.8840579710144928, Specificity: 0.9912280701754386\n",
      "Class 2: Precision: 0.9230769230769231, Recall: 1.0, F1-Score: 0.9600000000000001, Specificity: 0.9939148073022313\n"
     ]
    }
   ],
   "source": [
    "conf_matrix = confusion_matrix(y_test, y_pred)\n",
    "num_classes = len(conf_matrix)\n",
    "\n",
    "\n",
    "precision = np.zeros(num_classes)\n",
    "recall = np.zeros(num_classes)\n",
    "f1_score = np.zeros(num_classes)\n",
    "specificity = np.zeros(num_classes)\n",
    "\n",
    "\n",
    "\n",
    "\n",
    "for i in range(num_classes):\n",
    "    tp = conf_matrix[i, i]\n",
    "    fp = np.sum(conf_matrix[:, i]) - tp\n",
    "    fn = np.sum(conf_matrix[i, :]) - tp\n",
    "    tn = np.sum(conf_matrix) - (tp + fp + fn)\n",
    "\n",
    "    precision[i] = tp / (tp + fp) if (tp + fp) != 0 else 0\n",
    "    recall[i] = tp / (tp + fn) if (tp + fn) != 0 else 0\n",
    "    f1_score[i] = 2 * precision[i] * recall[i] / (precision[i] + recall[i]) if (precision[i] + recall[i]) != 0 else 0\n",
    "    specificity[i] = tn / (tn + fp) if (tn + fp) != 0 else 0\n",
    "\n",
    "# Print class-specific metrics\n",
    "for i in range(num_classes):\n",
    "    print(f\"Class {i}: Precision: {precision[i]}, Recall: {recall[i]}, F1-Score: {f1_score[i]}, Specificity: {specificity[i]}\")\n"
   ]
  },
  {
   "cell_type": "code",
   "execution_count": null,
   "id": "7ade151c",
   "metadata": {},
   "outputs": [],
   "source": []
  }
 ],
 "metadata": {
  "kernelspec": {
   "display_name": "Python 3 (ipykernel)",
   "language": "python",
   "name": "python3"
  },
  "language_info": {
   "codemirror_mode": {
    "name": "ipython",
    "version": 3
   },
   "file_extension": ".py",
   "mimetype": "text/x-python",
   "name": "python",
   "nbconvert_exporter": "python",
   "pygments_lexer": "ipython3",
   "version": "3.9.13"
  }
 },
 "nbformat": 4,
 "nbformat_minor": 5
}
